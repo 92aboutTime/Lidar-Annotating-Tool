{
 "cells": [
  {
   "cell_type": "code",
   "execution_count": 12,
   "metadata": {},
   "outputs": [],
   "source": [
    "import os\n",
    "import shutil\n",
    "from tqdm.notebook import tqdm\n",
    "import sys\n",
    "import pandas as pd"
   ]
  },
  {
   "cell_type": "code",
   "execution_count": 2,
   "metadata": {},
   "outputs": [],
   "source": [
    "def check_error_file(folder, dan_or_jeon):\n",
    "    folder_path = os.path.join(\"X:\\\\\", dan_or_jeon, folder, \"lidar\\\\lidar_label\")\n",
    "    # print(folder_path)\n",
    "\n",
    "    folder_list = os.listdir(folder_path)\n",
    "    result_list = []\n",
    "\n",
    "    for label_name in folder_list:\n",
    "        # print(label_name)\n",
    "        label_path = os.path.join(folder_path, label_name)\n",
    "        \n",
    "        if os.path.getsize(label_path) != 0 : \n",
    "\n",
    "            with open(label_path, mode = 'rt', encoding = 'utf-8') as label:\n",
    "                \n",
    "                lines = label.readlines()\n",
    "\n",
    "                for line in lines:\n",
    "                    if line.count(\" \") != 9 and not \"sts_\" in line:\n",
    "                        result_list.append([folder, label_name, False])\n",
    "                    elif line.count(\" \") != 9 and \"sts_\" in line:\n",
    "                        result_list.append([folder, label_name, True])\n",
    "\n",
    "    return result_list"
   ]
  },
  {
   "cell_type": "code",
   "execution_count": 3,
   "metadata": {},
   "outputs": [],
   "source": [
    "dan_path = \"X:\\\\dan\"\n",
    "jeon_path = \"X:\\\\jeon\"\n",
    "\n",
    "dan_list = sorted(os.listdir(dan_path))\n",
    "jeon_list = sorted(os.listdir(jeon_path))"
   ]
  },
  {
   "cell_type": "code",
   "execution_count": 6,
   "metadata": {},
   "outputs": [
    {
     "name": "stdout",
     "output_type": "stream",
     "text": [
      "0\n"
     ]
    }
   ],
   "source": [
    "list_1 = []\n",
    "\n",
    "if list_1 == None:\n",
    "    print(\"아싸\")\n",
    "    \n",
    "print(len(list_1))"
   ]
  },
  {
   "cell_type": "code",
   "execution_count": 13,
   "metadata": {},
   "outputs": [
    {
     "data": {
      "application/vnd.jupyter.widget-view+json": {
       "model_id": "ccf24f73f47d44fda6d113fafd85dee0",
       "version_major": 2,
       "version_minor": 0
      },
      "text/plain": [
       "HBox(children=(HTML(value=''), FloatProgress(value=0.0, max=279.0), HTML(value='')))"
      ]
     },
     "metadata": {},
     "output_type": "display_data"
    },
    {
     "name": "stdout",
     "output_type": "stream",
     "text": [
      "\n"
     ]
    }
   ],
   "source": [
    "df = pd.DataFrame(columns = ['폴더', 'label_번호', 'sts_문제'])\n",
    "\n",
    "j = 0\n",
    "for dan in tqdm(dan_list):\n",
    "    result_list = check_error_file(dan, \"dan\")\n",
    "\n",
    "    if len(result_list) != 0:\n",
    "        for result in result_list:\n",
    "            df.loc[j] = result\n",
    "            j = j + 1\n",
    "\n",
    "df.to_csv('C:\\\\Users\\\\wq_ysw\\\\Desktop\\\\Lidar\\\\file_error_단방향.csv', mode='w', index=False, encoding='utf-8-sig')"
   ]
  },
  {
   "cell_type": "code",
   "execution_count": 14,
   "metadata": {},
   "outputs": [
    {
     "data": {
      "application/vnd.jupyter.widget-view+json": {
       "model_id": "cc58e74a0c0944a5af6745b33e279c6d",
       "version_major": 2,
       "version_minor": 0
      },
      "text/plain": [
       "HBox(children=(HTML(value=''), FloatProgress(value=0.0, max=363.0), HTML(value='')))"
      ]
     },
     "metadata": {},
     "output_type": "display_data"
    },
    {
     "name": "stdout",
     "output_type": "stream",
     "text": [
      "\n"
     ]
    }
   ],
   "source": [
    "df = pd.DataFrame(columns = ['폴더', 'label_번호', 'sts_문제'])\n",
    "\n",
    "j = 0\n",
    "for jeon in tqdm(jeon_list):\n",
    "    result_list = check_error_file(jeon, \"jeon\")\n",
    "\n",
    "    if len(result_list) != 0:\n",
    "        for result in result_list:\n",
    "            df.loc[j] = result\n",
    "            j = j + 1\n",
    "\n",
    "df.to_csv('C:\\\\Users\\\\wq_ysw\\\\Desktop\\\\Lidar\\\\file_error_전방향.csv', mode='w', index=False, encoding='utf-8-sig')"
   ]
  },
  {
   "cell_type": "code",
   "execution_count": null,
   "metadata": {},
   "outputs": [],
   "source": []
  },
  {
   "cell_type": "code",
   "execution_count": null,
   "metadata": {},
   "outputs": [],
   "source": []
  }
 ],
 "metadata": {
  "kernelspec": {
   "display_name": "Python 3",
   "language": "python",
   "name": "python3"
  },
  "language_info": {
   "codemirror_mode": {
    "name": "ipython",
    "version": 3
   },
   "file_extension": ".py",
   "mimetype": "text/x-python",
   "name": "python",
   "nbconvert_exporter": "python",
   "pygments_lexer": "ipython3",
   "version": "3.8.5"
  }
 },
 "nbformat": 4,
 "nbformat_minor": 4
}
