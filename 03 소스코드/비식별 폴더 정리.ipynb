{
 "cells": [
  {
   "cell_type": "code",
   "execution_count": 1,
   "metadata": {},
   "outputs": [],
   "source": [
    "import os\n",
    "import shutil\n",
    "from tqdm.notebook import tqdm\n",
    "import pandas as pd"
   ]
  },
  {
   "cell_type": "code",
   "execution_count": 41,
   "metadata": {},
   "outputs": [],
   "source": [
    "def 정리해야할_폴더_찾기(YMD, dan, jeon):\n",
    "\n",
    "    가공완료_단방향_경로 = 'U:\\\\dan'\n",
    "    가공완료_전방향_경로 = 'U:\\\\jeon'\n",
    "    \n",
    "    가공완료_단방향_리스트 = os.listdir(가공완료_단방향_경로)\n",
    "    가공완료_단방향_리스트 = sorted(가공완료_단방향_리스트)\n",
    "    \n",
    "    가공완료_전방향_리스트 = os.listdir(가공완료_전방향_경로)\n",
    "    가공완료_전방향_리스트 = sorted(가공완료_전방향_리스트)\n",
    "    \n",
    "    비식별_단방향_경로 = os.path.join('W:\\\\',YMD, dan)\n",
    "    비식별_전방향_경로 = os.path.join('W:\\\\',YMD, jeon)\n",
    "    \n",
    "    if os.path.isdir(비식별_단방향_경로):\n",
    "        비식별_단방향_리스트 = os.listdir(비식별_단방향_경로)\n",
    "        비식별_단방향_리스트 = sorted(비식별_단방향_리스트)\n",
    "\n",
    "        for i, 폴더 in enumerate(tqdm(비식별_단방향_리스트)) :\n",
    "            i = i+1\n",
    "\n",
    "            if 폴더 not in 가공완료_단방향_리스트:\n",
    "                print(\"단방향이 아닌 폴더:{}\".format(os.path.join(비식별_단방향_경로, 폴더)))\n",
    "            try:\n",
    "                if len(os.listdir(os.path.join(비식별_단방향_경로, 폴더))) != 2:\n",
    "                    print(\"폴더구조가 단방향과 다른것:{}\".format(os.path.join(비식별_단방향_경로, 폴더)))\n",
    "            except:\n",
    "                continue\n",
    "                \n",
    "    if os.path.isdir(비식별_전방향_경로):\n",
    "        비식별_전방향_리스트 = os.listdir(비식별_전방향_경로)\n",
    "        비식별_전방향_리스트 = sorted(비식별_전방향_리스트)\n",
    "        \n",
    "        for i, 폴더 in enumerate(tqdm(비식별_전방향_리스트)) :\n",
    "            i = i+1\n",
    "\n",
    "            if 폴더 not in 가공완료_전방향_리스트:\n",
    "                print(\"전방향이 아닌 폴더:{}\".format(os.path.join(비식별_전방향_경로,폴더)))\n",
    "            try:\n",
    "                if len(os.listdir(os.path.join(비식별_전방향_경로, 폴더))) != 6:\n",
    "                    print(\"폴더구조가 단방향과 다른것:{}\".format(os.path.join(비식별_전방향_경로, 폴더)))\n",
    "            except:\n",
    "                continue\n",
    "            "
   ]
  },
  {
   "cell_type": "code",
   "execution_count": 42,
   "metadata": {},
   "outputs": [
    {
     "data": {
      "application/vnd.jupyter.widget-view+json": {
       "model_id": "35af21ec27394daa86768c8ddf07a73b",
       "version_major": 2,
       "version_minor": 0
      },
      "text/plain": [
       "HBox(children=(HTML(value=''), FloatProgress(value=0.0, max=15.0), HTML(value='')))"
      ]
     },
     "metadata": {},
     "output_type": "display_data"
    },
    {
     "name": "stdout",
     "output_type": "stream",
     "text": [
      "\n"
     ]
    },
    {
     "data": {
      "application/vnd.jupyter.widget-view+json": {
       "model_id": "20aefb14ec8e4def9a8a6d326b948fe4",
       "version_major": 2,
       "version_minor": 0
      },
      "text/plain": [
       "HBox(children=(HTML(value=''), FloatProgress(value=0.0, max=32.0), HTML(value='')))"
      ]
     },
     "metadata": {},
     "output_type": "display_data"
    },
    {
     "name": "stdout",
     "output_type": "stream",
     "text": [
      "전방향이 아닌 폴더:W:\\2021-01-24\\velo\\lidar\n",
      "폴더구조가 단방향과 다른것:W:\\2021-01-24\\velo\\lidar\n",
      "\n"
     ]
    }
   ],
   "source": [
    "정리해야할_폴더_찾기('2021-01-24', 'sos', 'velo')"
   ]
  },
  {
   "cell_type": "code",
   "execution_count": 43,
   "metadata": {},
   "outputs": [
    {
     "data": {
      "application/vnd.jupyter.widget-view+json": {
       "model_id": "45978327fe634637954949a8507726e6",
       "version_major": 2,
       "version_minor": 0
      },
      "text/plain": [
       "HBox(children=(HTML(value=''), FloatProgress(value=0.0, max=62.0), HTML(value='')))"
      ]
     },
     "metadata": {},
     "output_type": "display_data"
    },
    {
     "name": "stdout",
     "output_type": "stream",
     "text": [
      "\n"
     ]
    }
   ],
   "source": [
    "정리해야할_폴더_찾기('2021-01-29', 'sos', 'velo')"
   ]
  },
  {
   "cell_type": "code",
   "execution_count": 44,
   "metadata": {
    "scrolled": true
   },
   "outputs": [
    {
     "data": {
      "application/vnd.jupyter.widget-view+json": {
       "model_id": "4dc2753b28ef477e92f5792b2260b2c9",
       "version_major": 2,
       "version_minor": 0
      },
      "text/plain": [
       "HBox(children=(HTML(value=''), FloatProgress(value=0.0, max=166.0), HTML(value='')))"
      ]
     },
     "metadata": {},
     "output_type": "display_data"
    },
    {
     "name": "stdout",
     "output_type": "stream",
     "text": [
      "단방향이 아닌 폴더:W:\\2021-02-07\\one\\all\n",
      "폴더구조가 단방향과 다른것:W:\\2021-02-07\\one\\all\n",
      "\n"
     ]
    },
    {
     "data": {
      "application/vnd.jupyter.widget-view+json": {
       "model_id": "5d92a0aed6214e4e9a18b74b1cf88cc4",
       "version_major": 2,
       "version_minor": 0
      },
      "text/plain": [
       "HBox(children=(HTML(value=''), FloatProgress(value=0.0, max=263.0), HTML(value='')))"
      ]
     },
     "metadata": {},
     "output_type": "display_data"
    },
    {
     "name": "stdout",
     "output_type": "stream",
     "text": [
      "\n"
     ]
    }
   ],
   "source": [
    "정리해야할_폴더_찾기('2021-02-07', 'one', 'all')"
   ]
  },
  {
   "cell_type": "code",
   "execution_count": 45,
   "metadata": {
    "scrolled": true
   },
   "outputs": [
    {
     "data": {
      "application/vnd.jupyter.widget-view+json": {
       "model_id": "fa1f5621e7b5466681e42011b64be847",
       "version_major": 2,
       "version_minor": 0
      },
      "text/plain": [
       "HBox(children=(HTML(value=''), FloatProgress(value=0.0, max=102.0), HTML(value='')))"
      ]
     },
     "metadata": {},
     "output_type": "display_data"
    },
    {
     "name": "stdout",
     "output_type": "stream",
     "text": [
      "단방향이 아닌 폴더:W:\\2021-02-13\\one\\2020-11-21-14-45-02-03\n",
      "폴더구조가 단방향과 다른것:W:\\2021-02-13\\one\\2020-11-21-14-45-02-03\n",
      "폴더구조가 단방향과 다른것:W:\\2021-02-13\\one\\2020-11-21-14-55-29-02\n",
      "폴더구조가 단방향과 다른것:W:\\2021-02-13\\one\\2020-11-22-17-50-45-03\n",
      "단방향이 아닌 폴더:W:\\2021-02-13\\one\\test.csv\n",
      "\n"
     ]
    },
    {
     "data": {
      "application/vnd.jupyter.widget-view+json": {
       "model_id": "f9c3cfa437264dbb8caaf3ee3b996985",
       "version_major": 2,
       "version_minor": 0
      },
      "text/plain": [
       "HBox(children=(HTML(value=''), FloatProgress(value=0.0, max=7.0), HTML(value='')))"
      ]
     },
     "metadata": {},
     "output_type": "display_data"
    },
    {
     "name": "stdout",
     "output_type": "stream",
     "text": [
      "\n"
     ]
    }
   ],
   "source": [
    "정리해야할_폴더_찾기('2021-02-13', 'one', 'all')"
   ]
  },
  {
   "cell_type": "code",
   "execution_count": 46,
   "metadata": {},
   "outputs": [
    {
     "data": {
      "application/vnd.jupyter.widget-view+json": {
       "model_id": "fd02d0a6e7044691a8f8e00ed947f790",
       "version_major": 2,
       "version_minor": 0
      },
      "text/plain": [
       "HBox(children=(HTML(value=''), FloatProgress(value=0.0, max=26.0), HTML(value='')))"
      ]
     },
     "metadata": {},
     "output_type": "display_data"
    },
    {
     "name": "stdout",
     "output_type": "stream",
     "text": [
      "\n"
     ]
    }
   ],
   "source": [
    "정리해야할_폴더_찾기('2021-02-15', 'sos', 'velo')"
   ]
  },
  {
   "cell_type": "code",
   "execution_count": null,
   "metadata": {},
   "outputs": [],
   "source": []
  },
  {
   "cell_type": "code",
   "execution_count": null,
   "metadata": {},
   "outputs": [],
   "source": []
  }
 ],
 "metadata": {
  "kernelspec": {
   "display_name": "Python 3",
   "language": "python",
   "name": "python3"
  },
  "language_info": {
   "codemirror_mode": {
    "name": "ipython",
    "version": 3
   },
   "file_extension": ".py",
   "mimetype": "text/x-python",
   "name": "python",
   "nbconvert_exporter": "python",
   "pygments_lexer": "ipython3",
   "version": "3.8.5"
  }
 },
 "nbformat": 4,
 "nbformat_minor": 4
}
