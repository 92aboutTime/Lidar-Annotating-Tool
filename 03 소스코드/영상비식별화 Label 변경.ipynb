{
 "cells": [
  {
   "cell_type": "code",
   "execution_count": 1,
   "metadata": {},
   "outputs": [],
   "source": [
    "import os\n",
    "import shutil\n",
    "from tqdm.notebook import tqdm\n",
    "import pandas as pd"
   ]
  },
  {
   "cell_type": "code",
   "execution_count": 2,
   "metadata": {},
   "outputs": [],
   "source": [
    "가공완료_단방향_경로 = 'U:\\\\dan'\n",
    "가공완료_전방향_경로 = 'U:\\\\jeon'"
   ]
  },
  {
   "cell_type": "code",
   "execution_count": 7,
   "metadata": {},
   "outputs": [],
   "source": [
    "비식별_단방향_경로 = os.path.join('W:\\\\','9999-99-99','sos')\n",
    "비식별_전방향_경로 = os.path.join('W:\\\\','9999-99-99','velo')\n",
    "\n",
    "비식별_단방향_리스트 = os.listdir(비식별_단방향_경로)\n",
    "비식별_단방향_리스트 = sorted(비식별_단방향_리스트)\n",
    "\n",
    "비식별_전방향_리스트 = os.listdir(비식별_전방향_경로)\n",
    "비식별_전방향_리스트 = sorted(비식별_전방향_리스트)"
   ]
  },
  {
   "cell_type": "code",
   "execution_count": 8,
   "metadata": {},
   "outputs": [
    {
     "data": {
      "application/vnd.jupyter.widget-view+json": {
       "model_id": "894059b5ad924fcfb9105d5506e8b0f6",
       "version_major": 2,
       "version_minor": 0
      },
      "text/plain": [
       "HBox(children=(HTML(value=''), FloatProgress(value=0.0, max=2.0), HTML(value='')))"
      ]
     },
     "metadata": {},
     "output_type": "display_data"
    },
    {
     "name": "stdout",
     "output_type": "stream",
     "text": [
      "1번째_단방향: W:\\9999-99-99\\sos\\2020-11-19-11-17-56-04\\lidar\\lidar_label\n",
      "1번째_단방향: U:\\dan\\2020-11-19-11-17-56-04\\lidar\\lidar_label\n",
      "\n",
      "2번째_단방향: W:\\9999-99-99\\sos\\2020-11-19-12-30-06-01\\lidar\\lidar_label\n",
      "2번째_단방향: U:\\dan\\2020-11-19-12-30-06-01\\lidar\\lidar_label\n",
      "\n",
      "\n"
     ]
    },
    {
     "data": {
      "application/vnd.jupyter.widget-view+json": {
       "model_id": "ee59fa8042f541d489a709e003e0a91d",
       "version_major": 2,
       "version_minor": 0
      },
      "text/plain": [
       "HBox(children=(HTML(value=''), FloatProgress(value=0.0, max=2.0), HTML(value='')))"
      ]
     },
     "metadata": {},
     "output_type": "display_data"
    },
    {
     "name": "stdout",
     "output_type": "stream",
     "text": [
      "1번째_전방향: W:\\9999-99-99\\velo\\2020-10-20-12-43-00-01\\lidar\\lidar_label\n",
      "1번째_전방향: U:\\jeon\\2020-10-20-12-43-00-01\\lidar\\lidar_label\n",
      "\n",
      "2번째_전방향: W:\\9999-99-99\\velo\\2020-10-20-12-43-00-02\\lidar\\lidar_label\n",
      "2번째_전방향: U:\\jeon\\2020-10-20-12-43-00-02\\lidar\\lidar_label\n",
      "\n",
      "\n"
     ]
    }
   ],
   "source": [
    "for i, 폴더 in enumerate(tqdm(비식별_단방향_리스트)) :\n",
    "    i = i+1\n",
    "\n",
    "    dan_before_path = os.path.join(비식별_단방향_경로, 폴더, 'lidar', 'lidar_label')\n",
    "    dan_obj_path = os.path.join(가공완료_단방향_경로, 폴더, 'lidar', 'lidar_label')\n",
    "    \n",
    "    print('{}번째_단방향: {}'.format(i,dan_before_path))\n",
    "    print('{}번째_단방향: {}\\n'.format(i, dan_obj_path))\n",
    "    \n",
    "    shutil.rmtree(dan_before_path)\n",
    "    shutil.copytree(dan_obj_path, dan_before_path)\n",
    "\n",
    "    \n",
    "for i, 폴더 in enumerate(tqdm(비식별_전방향_리스트)):\n",
    "    i = i+1\n",
    "    jeon_before_path = os.path.join(비식별_전방향_경로, 폴더, 'lidar', 'lidar_label')\n",
    "    jeon_obj_path = os.path.join(가공완료_전방향_경로, 폴더, 'lidar', 'lidar_label')\n",
    "        \n",
    "    print('{}번째_전방향: {}'.format(i, jeon_before_path))\n",
    "    print('{}번째_전방향: {}\\n'.format(i, jeon_obj_path))\n",
    "    \n",
    "    shutil.rmtree(jeon_before_path)"
   ]
  },
  {
   "cell_type": "code",
   "execution_count": null,
   "metadata": {},
   "outputs": [],
   "source": []
  },
  {
   "cell_type": "code",
   "execution_count": 3,
   "metadata": {},
   "outputs": [],
   "source": [
    "비식별_단방향_경로 = os.path.join('W:\\\\','2021-01-24','sos')\n",
    "비식별_전방향_경로 = os.path.join('W:\\\\','2021-01-24','velo')\n",
    "\n",
    "비식별_단방향_리스트 = os.listdir(비식별_단방향_경로)\n",
    "비식별_단방향_리스트 = sorted(비식별_단방향_리스트)\n",
    "\n",
    "비식별_전방향_리스트 = os.listdir(비식별_전방향_경로)\n",
    "비식별_전방향_리스트 = sorted(비식별_전방향_리스트)"
   ]
  },
  {
   "cell_type": "code",
   "execution_count": 4,
   "metadata": {},
   "outputs": [
    {
     "data": {
      "application/vnd.jupyter.widget-view+json": {
       "model_id": "99f80bb637c14ffca9fe859045a8a171",
       "version_major": 2,
       "version_minor": 0
      },
      "text/plain": [
       "HBox(children=(HTML(value=''), FloatProgress(value=0.0, max=15.0), HTML(value='')))"
      ]
     },
     "metadata": {},
     "output_type": "display_data"
    },
    {
     "name": "stdout",
     "output_type": "stream",
     "text": [
      "1번째_단방향: W:\\2021-01-24\\sos\\2020-11-19-11-17-56-04\\lidar\\lidar_label\n",
      "1번째_단방향: U:\\dan\\2020-11-19-11-17-56-04\\lidar\\lidar_label\n",
      "\n",
      "2번째_단방향: W:\\2021-01-24\\sos\\2020-11-19-12-30-06-01\\lidar\\lidar_label\n",
      "2번째_단방향: U:\\dan\\2020-11-19-12-30-06-01\\lidar\\lidar_label\n",
      "\n",
      "\n"
     ]
    },
    {
     "ename": "PermissionError",
     "evalue": "[WinError 5] 액세스가 거부되었습니다: 'W:\\\\2021-01-24\\\\sos\\\\2020-11-19-12-30-06-01\\\\lidar\\\\lidar_label'",
     "output_type": "error",
     "traceback": [
      "\u001b[1;31m---------------------------------------------------------------------------\u001b[0m",
      "\u001b[1;31mPermissionError\u001b[0m                           Traceback (most recent call last)",
      "\u001b[1;32m<ipython-input-4-faad71c9c80f>\u001b[0m in \u001b[0;36m<module>\u001b[1;34m\u001b[0m\n\u001b[0;32m      8\u001b[0m     \u001b[0mprint\u001b[0m\u001b[1;33m(\u001b[0m\u001b[1;34m'{}번째_단방향: {}\\n'\u001b[0m\u001b[1;33m.\u001b[0m\u001b[0mformat\u001b[0m\u001b[1;33m(\u001b[0m\u001b[0mi\u001b[0m\u001b[1;33m,\u001b[0m \u001b[0mdan_obj_path\u001b[0m\u001b[1;33m)\u001b[0m\u001b[1;33m)\u001b[0m\u001b[1;33m\u001b[0m\u001b[1;33m\u001b[0m\u001b[0m\n\u001b[0;32m      9\u001b[0m \u001b[1;33m\u001b[0m\u001b[0m\n\u001b[1;32m---> 10\u001b[1;33m     \u001b[0mshutil\u001b[0m\u001b[1;33m.\u001b[0m\u001b[0mrmtree\u001b[0m\u001b[1;33m(\u001b[0m\u001b[0mdan_before_path\u001b[0m\u001b[1;33m)\u001b[0m\u001b[1;33m\u001b[0m\u001b[1;33m\u001b[0m\u001b[0m\n\u001b[0m\u001b[0;32m     11\u001b[0m     \u001b[0mshutil\u001b[0m\u001b[1;33m.\u001b[0m\u001b[0mcopytree\u001b[0m\u001b[1;33m(\u001b[0m\u001b[0mdan_obj_path\u001b[0m\u001b[1;33m,\u001b[0m \u001b[0mdan_before_path\u001b[0m\u001b[1;33m)\u001b[0m\u001b[1;33m\u001b[0m\u001b[1;33m\u001b[0m\u001b[0m\n\u001b[0;32m     12\u001b[0m \u001b[1;33m\u001b[0m\u001b[0m\n",
      "\u001b[1;32m~\\anaconda3\\lib\\shutil.py\u001b[0m in \u001b[0;36mrmtree\u001b[1;34m(path, ignore_errors, onerror)\u001b[0m\n\u001b[0;32m    735\u001b[0m             \u001b[1;31m# can't continue even if onerror hook returns\u001b[0m\u001b[1;33m\u001b[0m\u001b[1;33m\u001b[0m\u001b[1;33m\u001b[0m\u001b[0m\n\u001b[0;32m    736\u001b[0m             \u001b[1;32mreturn\u001b[0m\u001b[1;33m\u001b[0m\u001b[1;33m\u001b[0m\u001b[0m\n\u001b[1;32m--> 737\u001b[1;33m         \u001b[1;32mreturn\u001b[0m \u001b[0m_rmtree_unsafe\u001b[0m\u001b[1;33m(\u001b[0m\u001b[0mpath\u001b[0m\u001b[1;33m,\u001b[0m \u001b[0monerror\u001b[0m\u001b[1;33m)\u001b[0m\u001b[1;33m\u001b[0m\u001b[1;33m\u001b[0m\u001b[0m\n\u001b[0m\u001b[0;32m    738\u001b[0m \u001b[1;33m\u001b[0m\u001b[0m\n\u001b[0;32m    739\u001b[0m \u001b[1;31m# Allow introspection of whether or not the hardening against symlink\u001b[0m\u001b[1;33m\u001b[0m\u001b[1;33m\u001b[0m\u001b[1;33m\u001b[0m\u001b[0m\n",
      "\u001b[1;32m~\\anaconda3\\lib\\shutil.py\u001b[0m in \u001b[0;36m_rmtree_unsafe\u001b[1;34m(path, onerror)\u001b[0m\n\u001b[0;32m    594\u001b[0m             \u001b[0mentries\u001b[0m \u001b[1;33m=\u001b[0m \u001b[0mlist\u001b[0m\u001b[1;33m(\u001b[0m\u001b[0mscandir_it\u001b[0m\u001b[1;33m)\u001b[0m\u001b[1;33m\u001b[0m\u001b[1;33m\u001b[0m\u001b[0m\n\u001b[0;32m    595\u001b[0m     \u001b[1;32mexcept\u001b[0m \u001b[0mOSError\u001b[0m\u001b[1;33m:\u001b[0m\u001b[1;33m\u001b[0m\u001b[1;33m\u001b[0m\u001b[0m\n\u001b[1;32m--> 596\u001b[1;33m         \u001b[0monerror\u001b[0m\u001b[1;33m(\u001b[0m\u001b[0mos\u001b[0m\u001b[1;33m.\u001b[0m\u001b[0mscandir\u001b[0m\u001b[1;33m,\u001b[0m \u001b[0mpath\u001b[0m\u001b[1;33m,\u001b[0m \u001b[0msys\u001b[0m\u001b[1;33m.\u001b[0m\u001b[0mexc_info\u001b[0m\u001b[1;33m(\u001b[0m\u001b[1;33m)\u001b[0m\u001b[1;33m)\u001b[0m\u001b[1;33m\u001b[0m\u001b[1;33m\u001b[0m\u001b[0m\n\u001b[0m\u001b[0;32m    597\u001b[0m         \u001b[0mentries\u001b[0m \u001b[1;33m=\u001b[0m \u001b[1;33m[\u001b[0m\u001b[1;33m]\u001b[0m\u001b[1;33m\u001b[0m\u001b[1;33m\u001b[0m\u001b[0m\n\u001b[0;32m    598\u001b[0m     \u001b[1;32mfor\u001b[0m \u001b[0mentry\u001b[0m \u001b[1;32min\u001b[0m \u001b[0mentries\u001b[0m\u001b[1;33m:\u001b[0m\u001b[1;33m\u001b[0m\u001b[1;33m\u001b[0m\u001b[0m\n",
      "\u001b[1;32m~\\anaconda3\\lib\\shutil.py\u001b[0m in \u001b[0;36m_rmtree_unsafe\u001b[1;34m(path, onerror)\u001b[0m\n\u001b[0;32m    591\u001b[0m \u001b[1;32mdef\u001b[0m \u001b[0m_rmtree_unsafe\u001b[0m\u001b[1;33m(\u001b[0m\u001b[0mpath\u001b[0m\u001b[1;33m,\u001b[0m \u001b[0monerror\u001b[0m\u001b[1;33m)\u001b[0m\u001b[1;33m:\u001b[0m\u001b[1;33m\u001b[0m\u001b[1;33m\u001b[0m\u001b[0m\n\u001b[0;32m    592\u001b[0m     \u001b[1;32mtry\u001b[0m\u001b[1;33m:\u001b[0m\u001b[1;33m\u001b[0m\u001b[1;33m\u001b[0m\u001b[0m\n\u001b[1;32m--> 593\u001b[1;33m         \u001b[1;32mwith\u001b[0m \u001b[0mos\u001b[0m\u001b[1;33m.\u001b[0m\u001b[0mscandir\u001b[0m\u001b[1;33m(\u001b[0m\u001b[0mpath\u001b[0m\u001b[1;33m)\u001b[0m \u001b[1;32mas\u001b[0m \u001b[0mscandir_it\u001b[0m\u001b[1;33m:\u001b[0m\u001b[1;33m\u001b[0m\u001b[1;33m\u001b[0m\u001b[0m\n\u001b[0m\u001b[0;32m    594\u001b[0m             \u001b[0mentries\u001b[0m \u001b[1;33m=\u001b[0m \u001b[0mlist\u001b[0m\u001b[1;33m(\u001b[0m\u001b[0mscandir_it\u001b[0m\u001b[1;33m)\u001b[0m\u001b[1;33m\u001b[0m\u001b[1;33m\u001b[0m\u001b[0m\n\u001b[0;32m    595\u001b[0m     \u001b[1;32mexcept\u001b[0m \u001b[0mOSError\u001b[0m\u001b[1;33m:\u001b[0m\u001b[1;33m\u001b[0m\u001b[1;33m\u001b[0m\u001b[0m\n",
      "\u001b[1;31mPermissionError\u001b[0m: [WinError 5] 액세스가 거부되었습니다: 'W:\\\\2021-01-24\\\\sos\\\\2020-11-19-12-30-06-01\\\\lidar\\\\lidar_label'"
     ]
    }
   ],
   "source": [
    "for i, 폴더 in enumerate(tqdm(비식별_단방향_리스트)) :\n",
    "    i = i+1\n",
    "    \n",
    "    dan_before_path = os.path.join(비식별_단방향_경로, 폴더, 'lidar', 'lidar_label')\n",
    "    dan_obj_path = os.path.join(가공완료_단방향_경로, 폴더, 'lidar', 'lidar_label')\n",
    "    \n",
    "    print('{}번째_단방향: {}'.format(i,dan_before_path))\n",
    "    print('{}번째_단방향: {}\\n'.format(i, dan_obj_path))\n",
    "    \n",
    "    shutil.rmtree(dan_before_path)\n",
    "    shutil.copytree(dan_obj_path, dan_before_path)\n",
    "\n",
    "    \n",
    "for i, 폴더 in enumerate(tqdm(비식별_전방향_리스트)):\n",
    "    i = i+1\n",
    "    jeon_before_path = os.path.join(비식별_전방향_경로, 폴더, 'lidar', 'lidar_label')\n",
    "    jeon_obj_path = os.path.join(가공완료_전방향_경로, 폴더, 'lidar', 'lidar_label')\n",
    "        \n",
    "    print('{}번째_전방향: {}'.format(i, jeon_before_path))\n",
    "    print('{}번째_전방향: {}\\n'.format(i, jeon_obj_path))\n",
    "    \n",
    "    shutil.rmtree(jeon_before_path)\n",
    "    shutil.copytree(jeon_obj_path, jeon_before_path)"
   ]
  },
  {
   "cell_type": "code",
   "execution_count": null,
   "metadata": {},
   "outputs": [],
   "source": []
  }
 ],
 "metadata": {
  "kernelspec": {
   "display_name": "Python 3",
   "language": "python",
   "name": "python3"
  },
  "language_info": {
   "codemirror_mode": {
    "name": "ipython",
    "version": 3
   },
   "file_extension": ".py",
   "mimetype": "text/x-python",
   "name": "python",
   "nbconvert_exporter": "python",
   "pygments_lexer": "ipython3",
   "version": "3.8.5"
  }
 },
 "nbformat": 4,
 "nbformat_minor": 4
}
